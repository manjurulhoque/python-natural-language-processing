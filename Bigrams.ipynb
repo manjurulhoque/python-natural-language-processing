{
 "cells": [
  {
   "cell_type": "code",
   "execution_count": 34,
   "metadata": {},
   "outputs": [],
   "source": [
    "import nltk\n",
    "from nltk.collocations import *\n",
    "import string\n",
    "from string import punctuation\n",
    "from nltk.tokenize import word_tokenize, sent_tokenize\n",
    "from nltk.corpus import stopwords"
   ]
  },
  {
   "cell_type": "code",
   "execution_count": 35,
   "metadata": {},
   "outputs": [
    {
     "data": {
      "text/plain": [
       "'SimpleText is the native text editor for the classic Mac OS SimpleText allows editing including text formatting underline italic bold etc fonts and sizes'"
      ]
     },
     "execution_count": 35,
     "metadata": {},
     "output_type": "execute_result"
    }
   ],
   "source": [
    "text = \"SimpleText is the native text editor for the classic Mac OS. SimpleText allows editing including text formatting (underline, italic, bold, etc), fonts, and sizes.\"\n",
    "\n",
    "text = [t for t in text if t not in punctuation]\n",
    "text = \"\".join(text)\n",
    "text"
   ]
  },
  {
   "cell_type": "code",
   "execution_count": 36,
   "metadata": {},
   "outputs": [
    {
     "data": {
      "text/plain": [
       "['SimpleText',\n",
       " 'is',\n",
       " 'the',\n",
       " 'native',\n",
       " 'text',\n",
       " 'editor',\n",
       " 'for',\n",
       " 'the',\n",
       " 'classic',\n",
       " 'Mac',\n",
       " 'OS',\n",
       " 'SimpleText',\n",
       " 'allows',\n",
       " 'editing',\n",
       " 'including',\n",
       " 'text',\n",
       " 'formatting',\n",
       " 'underline',\n",
       " 'italic',\n",
       " 'bold',\n",
       " 'etc',\n",
       " 'fonts',\n",
       " 'and',\n",
       " 'sizes']"
      ]
     },
     "execution_count": 36,
     "metadata": {},
     "output_type": "execute_result"
    }
   ],
   "source": [
    "words = word_tokenize(text)\n",
    "\n",
    "words"
   ]
  },
  {
   "cell_type": "code",
   "execution_count": 37,
   "metadata": {},
   "outputs": [
    {
     "data": {
      "text/plain": [
       "['SimpleText',\n",
       " 'native',\n",
       " 'text',\n",
       " 'editor',\n",
       " 'classic',\n",
       " 'Mac',\n",
       " 'OS',\n",
       " 'SimpleText',\n",
       " 'allows',\n",
       " 'editing',\n",
       " 'including',\n",
       " 'text',\n",
       " 'formatting',\n",
       " 'underline',\n",
       " 'italic',\n",
       " 'bold',\n",
       " 'etc',\n",
       " 'fonts',\n",
       " 'sizes']"
      ]
     },
     "execution_count": 37,
     "metadata": {},
     "output_type": "execute_result"
    }
   ],
   "source": [
    "clean_tokens = [token for token in words if token not in stopwords.words('english')]\n",
    "\n",
    "clean_tokens"
   ]
  },
  {
   "cell_type": "code",
   "execution_count": 38,
   "metadata": {},
   "outputs": [
    {
     "data": {
      "text/plain": [
       "dict_items([('SimpleText', 2), ('native', 1), ('text', 2), ('editor', 1), ('classic', 1), ('Mac', 1), ('OS', 1), ('allows', 1), ('editing', 1), ('including', 1), ('formatting', 1), ('underline', 1), ('italic', 1), ('bold', 1), ('etc', 1), ('fonts', 1), ('sizes', 1)])"
      ]
     },
     "execution_count": 38,
     "metadata": {},
     "output_type": "execute_result"
    }
   ],
   "source": [
    "# word frequency\n",
    "\n",
    "freq = nltk.FreqDist(clean_tokens)\n",
    "\n",
    "freq.items()"
   ]
  },
  {
   "cell_type": "code",
   "execution_count": 39,
   "metadata": {},
   "outputs": [
    {
     "name": "stdout",
     "output_type": "stream",
     "text": [
      "SimpleText : 2\n",
      "native : 1\n",
      "text : 2\n",
      "editor : 1\n",
      "classic : 1\n",
      "Mac : 1\n",
      "OS : 1\n",
      "allows : 1\n",
      "editing : 1\n",
      "including : 1\n",
      "formatting : 1\n",
      "underline : 1\n",
      "italic : 1\n",
      "bold : 1\n",
      "etc : 1\n",
      "fonts : 1\n",
      "sizes : 1\n"
     ]
    }
   ],
   "source": [
    "for word, number in freq.items():\n",
    "    print(str(word) + \" : \" + str(number))"
   ]
  },
  {
   "cell_type": "code",
   "execution_count": 40,
   "metadata": {},
   "outputs": [
    {
     "data": {
      "text/plain": [
       "<nltk.collocations.BigramCollocationFinder at 0x7dc6f78a90>"
      ]
     },
     "execution_count": 40,
     "metadata": {},
     "output_type": "execute_result"
    }
   ],
   "source": [
    "# bgrams mean that words are commonly occured together\n",
    "from nltk.collocations import *\n",
    "bigram_measures = nltk.collocations.BigramAssocMeasures()\n",
    "finder = BigramCollocationFinder.from_words(clean_tokens)\n",
    "finder"
   ]
  },
  {
   "cell_type": "code",
   "execution_count": 41,
   "metadata": {},
   "outputs": [
    {
     "data": {
      "text/plain": [
       "[(('Mac', 'OS'), 1),\n",
       " (('OS', 'SimpleText'), 1),\n",
       " (('SimpleText', 'allows'), 1),\n",
       " (('SimpleText', 'native'), 1),\n",
       " (('allows', 'editing'), 1),\n",
       " (('bold', 'etc'), 1),\n",
       " (('classic', 'Mac'), 1),\n",
       " (('editing', 'including'), 1),\n",
       " (('editor', 'classic'), 1),\n",
       " (('etc', 'fonts'), 1),\n",
       " (('fonts', 'sizes'), 1),\n",
       " (('formatting', 'underline'), 1),\n",
       " (('including', 'text'), 1),\n",
       " (('italic', 'bold'), 1),\n",
       " (('native', 'text'), 1),\n",
       " (('text', 'editor'), 1),\n",
       " (('text', 'formatting'), 1),\n",
       " (('underline', 'italic'), 1)]"
      ]
     },
     "execution_count": 41,
     "metadata": {},
     "output_type": "execute_result"
    }
   ],
   "source": [
    "sorted(finder.ngram_fd.items())"
   ]
  },
  {
   "cell_type": "code",
   "execution_count": 42,
   "metadata": {},
   "outputs": [
    {
     "data": {
      "text/plain": [
       "19"
      ]
     },
     "execution_count": 42,
     "metadata": {},
     "output_type": "execute_result"
    }
   ],
   "source": [
    "finder.N"
   ]
  },
  {
   "cell_type": "code",
   "execution_count": 43,
   "metadata": {},
   "outputs": [
    {
     "data": {
      "text/plain": [
       "FreqDist({'Mac': 1,\n",
       "          'OS': 1,\n",
       "          'SimpleText': 2,\n",
       "          'allows': 1,\n",
       "          'bold': 1,\n",
       "          'classic': 1,\n",
       "          'editing': 1,\n",
       "          'editor': 1,\n",
       "          'etc': 1,\n",
       "          'fonts': 1,\n",
       "          'formatting': 1,\n",
       "          'including': 1,\n",
       "          'italic': 1,\n",
       "          'native': 1,\n",
       "          'sizes': 1,\n",
       "          'text': 2,\n",
       "          'underline': 1})"
      ]
     },
     "execution_count": 43,
     "metadata": {},
     "output_type": "execute_result"
    }
   ],
   "source": [
    "finder.word_fd # word frequency"
   ]
  },
  {
   "cell_type": "code",
   "execution_count": null,
   "metadata": {},
   "outputs": [],
   "source": []
  },
  {
   "cell_type": "code",
   "execution_count": null,
   "metadata": {
    "collapsed": true
   },
   "outputs": [],
   "source": []
  }
 ],
 "metadata": {
  "kernelspec": {
   "display_name": "Python 3",
   "language": "python",
   "name": "python3"
  },
  "language_info": {
   "codemirror_mode": {
    "name": "ipython",
    "version": 3
   },
   "file_extension": ".py",
   "mimetype": "text/x-python",
   "name": "python",
   "nbconvert_exporter": "python",
   "pygments_lexer": "ipython3",
   "version": "3.6.0"
  }
 },
 "nbformat": 4,
 "nbformat_minor": 2
}
