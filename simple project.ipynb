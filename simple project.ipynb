{
 "cells": [
  {
   "cell_type": "markdown",
   "metadata": {},
   "source": [
    "# Find a sentence is negative or positive or neutral"
   ]
  },
  {
   "cell_type": "code",
   "execution_count": 2,
   "metadata": {},
   "outputs": [],
   "source": [
    "import nltk\n",
    "from nltk.sentiment.vader import SentimentIntensityAnalyzer # to use this analyzer, you need to install twython"
   ]
  },
  {
   "cell_type": "code",
   "execution_count": 11,
   "metadata": {
    "collapsed": true
   },
   "outputs": [],
   "source": [
    "from html.parser import HTMLParser\n",
    "import requests\n",
    "from bs4 import BeautifulSoup"
   ]
  },
  {
   "cell_type": "code",
   "execution_count": 22,
   "metadata": {},
   "outputs": [],
   "source": [
    "url = \"https://www.tripadvisor.com/Hotel_Review-g293936-d5305699-Reviews-Six_Seasons_Hotel-Dhaka_City_Dhaka_Division.html\"\n",
    "source_code = requests.get(url)\n",
    "plain_text = source_code.text\n",
    "soup = BeautifulSoup(plain_text, \"html.parser\")\n",
    "#print(soup)\n",
    "shop = soup.find('div', {'class':'review-dialog'})\n",
    "shop\n",
    "# for review in soup.findAll('div', {'class': '_N7k fp-w'}):\n",
    "#     print(review)"
   ]
  },
  {
   "cell_type": "code",
   "execution_count": null,
   "metadata": {
    "collapsed": true
   },
   "outputs": [],
   "source": []
  },
  {
   "cell_type": "code",
   "execution_count": 24,
   "metadata": {},
   "outputs": [
    {
     "name": "stdout",
     "output_type": "stream",
     "text": [
      "The food is delicious but not over the top\n",
      "{'neg': 0.168, 'neu': 0.623, 'pos': 0.209, 'compound': 0.1184}\n",
      "\n"
     ]
    }
   ],
   "source": [
    "hotel_rev = [\"The food is delicious but not over the top\",\n",
    "            ]\n",
    "  \n",
    "sid = SentimentIntensityAnalyzer()\n",
    "for sentence in hotel_rev:\n",
    "     print(sentence)\n",
    "     ss = sid.polarity_scores(sentence)\n",
    "     print(ss)\n",
    "     #for k in ss:\n",
    "         #print('{0}: {1}, '.format(k, ss[k]), end='')\n",
    "     print()"
   ]
  },
  {
   "cell_type": "code",
   "execution_count": null,
   "metadata": {
    "collapsed": true
   },
   "outputs": [],
   "source": []
  },
  {
   "cell_type": "code",
   "execution_count": null,
   "metadata": {
    "collapsed": true
   },
   "outputs": [],
   "source": []
  }
 ],
 "metadata": {
  "kernelspec": {
   "display_name": "Python 3",
   "language": "python",
   "name": "python3"
  },
  "language_info": {
   "codemirror_mode": {
    "name": "ipython",
    "version": 3
   },
   "file_extension": ".py",
   "mimetype": "text/x-python",
   "name": "python",
   "nbconvert_exporter": "python",
   "pygments_lexer": "ipython3",
   "version": "3.6.1"
  }
 },
 "nbformat": 4,
 "nbformat_minor": 2
}
