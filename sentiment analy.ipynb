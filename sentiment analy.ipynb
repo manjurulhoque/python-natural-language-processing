{
 "cells": [
  {
   "cell_type": "code",
   "execution_count": 37,
   "metadata": {
    "collapsed": true
   },
   "outputs": [],
   "source": [
    "import nltk.classify.util\n",
    "from nltk.classify import NaiveBayesClassifier\n",
    "from nltk.corpus import movie_reviews\n",
    "from nltk.corpus import stopwords\n",
    "from nltk.tokenize import word_tokenize\n",
    "from nltk.corpus import wordnet\n",
    "import nltk"
   ]
  },
  {
   "cell_type": "code",
   "execution_count": 38,
   "metadata": {
    "collapsed": true
   },
   "outputs": [],
   "source": [
    "def create_word_features(w):\n",
    "    useful_words = [w.lower() for w in words if w.lower() in stopwords.words('english')]\n",
    "    my_dict = dict([(word, True) for word in useful_words])\n",
    "    \n",
    "    return my_dict"
   ]
  },
  {
   "cell_type": "code",
   "execution_count": 3,
   "metadata": {},
   "outputs": [
    {
     "name": "stdout",
     "output_type": "stream",
     "text": [
      "Hello\n"
     ]
    }
   ],
   "source": [
    "print(\"Hello\")"
   ]
  },
  {
   "cell_type": "code",
   "execution_count": 39,
   "metadata": {
    "collapsed": true
   },
   "outputs": [],
   "source": [
    "neg_reviews = []\n",
    "for fileid in movie_reviews.fileids('neg'):\n",
    "    words = movie_reviews.words(fileid)\n",
    "    neg_reviews.append((create_word_features(words), \"negative\"))"
   ]
  },
  {
   "cell_type": "code",
   "execution_count": 36,
   "metadata": {},
   "outputs": [
    {
     "name": "stdout",
     "output_type": "stream",
     "text": [
      "1000\n"
     ]
    },
    {
     "data": {
      "text/plain": [
       "({'\"': True,\n",
       "  \"'\": True,\n",
       "  '(': True,\n",
       "  ')': True,\n",
       "  ',': True,\n",
       "  '.': True,\n",
       "  'across': True,\n",
       "  'acting': True,\n",
       "  'action': True,\n",
       "  'another': True,\n",
       "  'around': True,\n",
       "  'average': True,\n",
       "  'back': True,\n",
       "  'baldwin': True,\n",
       "  'bastard': True,\n",
       "  'big': True,\n",
       "  'body': True,\n",
       "  'brain': True,\n",
       "  'bringing': True,\n",
       "  'brother': True,\n",
       "  'bug': True,\n",
       "  'cgi': True,\n",
       "  'chase': True,\n",
       "  'comes': True,\n",
       "  'course': True,\n",
       "  'crew': True,\n",
       "  'curtis': True,\n",
       "  'damn': True,\n",
       "  'deserted': True,\n",
       "  'design': True,\n",
       "  'donald': True,\n",
       "  'drunkenly': True,\n",
       "  'empty': True,\n",
       "  'even': True,\n",
       "  'feels': True,\n",
       "  'flash': True,\n",
       "  'flashy': True,\n",
       "  'get': True,\n",
       "  'going': True,\n",
       "  'good': True,\n",
       "  'gore': True,\n",
       "  'got': True,\n",
       "  'h20': True,\n",
       "  'halloween': True,\n",
       "  'happy': True,\n",
       "  'head': True,\n",
       "  'hey': True,\n",
       "  'hit': True,\n",
       "  'jamie': True,\n",
       "  'kick': True,\n",
       "  'know': True,\n",
       "  'lee': True,\n",
       "  'let': True,\n",
       "  'like': True,\n",
       "  'likely': True,\n",
       "  'likes': True,\n",
       "  'little': True,\n",
       "  'middle': True,\n",
       "  'mir': True,\n",
       "  'movie': True,\n",
       "  'much': True,\n",
       "  'nowhere': True,\n",
       "  'occasional': True,\n",
       "  'origin': True,\n",
       "  'otherwise': True,\n",
       "  'parts': True,\n",
       "  'people': True,\n",
       "  'picking': True,\n",
       "  'pink': True,\n",
       "  'power': True,\n",
       "  'pretty': True,\n",
       "  'quick': True,\n",
       "  'real': True,\n",
       "  'really': True,\n",
       "  'regarding': True,\n",
       "  'review': True,\n",
       "  'robot': True,\n",
       "  'robots': True,\n",
       "  'russian': True,\n",
       "  'schnazzy': True,\n",
       "  'sequences': True,\n",
       "  'ship': True,\n",
       "  'shot': True,\n",
       "  'someone': True,\n",
       "  'stan': True,\n",
       "  'star': True,\n",
       "  'starring': True,\n",
       "  'start': True,\n",
       "  'still': True,\n",
       "  'story': True,\n",
       "  'strangeness': True,\n",
       "  'stumbling': True,\n",
       "  'substance': True,\n",
       "  'sunken': True,\n",
       "  'sutherland': True,\n",
       "  'tech': True,\n",
       "  'thing': True,\n",
       "  'throughout': True,\n",
       "  'time': True,\n",
       "  'took': True,\n",
       "  'tugboat': True,\n",
       "  'turn': True,\n",
       "  'virus': True,\n",
       "  'wasted': True,\n",
       "  'well': True,\n",
       "  'william': True,\n",
       "  'winston': True,\n",
       "  'within': True,\n",
       "  'work': True,\n",
       "  'y2k': True},\n",
       " 'negative')"
      ]
     },
     "execution_count": 36,
     "metadata": {},
     "output_type": "execute_result"
    }
   ],
   "source": [
    "print(len(neg_reviews))\n",
    "\n",
    "neg_reviews[1]"
   ]
  },
  {
   "cell_type": "code",
   "execution_count": 6,
   "metadata": {
    "collapsed": true
   },
   "outputs": [],
   "source": [
    "pos_reviews = []\n",
    "for fileid in movie_reviews.fileids('pos'):\n",
    "    words = movie_reviews.words(fileid)\n",
    "    pos_reviews.append((create_word_features(words), \"positive\"))"
   ]
  },
  {
   "cell_type": "code",
   "execution_count": 7,
   "metadata": {},
   "outputs": [
    {
     "name": "stdout",
     "output_type": "stream",
     "text": [
      "1500 500\n"
     ]
    }
   ],
   "source": [
    "train_set = neg_reviews[:750] + pos_reviews[:750]\n",
    "test_set =  neg_reviews[750:] + pos_reviews[750:]\n",
    "print(len(train_set),  len(test_set))"
   ]
  },
  {
   "cell_type": "code",
   "execution_count": 8,
   "metadata": {
    "collapsed": true
   },
   "outputs": [],
   "source": [
    "classifier = NaiveBayesClassifier.train(train_set)"
   ]
  },
  {
   "cell_type": "code",
   "execution_count": 10,
   "metadata": {},
   "outputs": [
    {
     "name": "stdout",
     "output_type": "stream",
     "text": [
      "72.39999999999999\n"
     ]
    }
   ],
   "source": [
    "accuracy = nltk.classify.util.accuracy(classifier, test_set)\n",
    "print(accuracy * 100)"
   ]
  },
  {
   "cell_type": "code",
   "execution_count": 11,
   "metadata": {},
   "outputs": [
    {
     "name": "stdout",
     "output_type": "stream",
     "text": [
      "\n",
      " \n",
      "It would be impossible to sum up all the stuff that sucks about this film, so I'll break it down into what I remember most strongly: a man in an ingeniously fake-looking polar bear costume (funnier than the \"bear\" from Hercules in New York); an extra with the most unnatural laugh you're ever likely to hear; an ex-dope addict martian with tics; kid actors who make sure every syllable of their lines are slowly and caaarreee-fulll-yyy prrooo-noun-ceeed; a newspaper headline stating that Santa's been \"kidnaped\", and a giant robot. Yes, you read that right. A giant robot.\n",
      " \n",
      "The worst acting job in here must be when Mother Claus and her elves have been \"frozen\" by the \"Martians'\" weapons. Could they be *more* trembling? I know this was the sixties and everyone was doped up, but still.\n",
      "\n"
     ]
    }
   ],
   "source": [
    "review_santa = '''\n",
    " \n",
    "It would be impossible to sum up all the stuff that sucks about this film, so I'll break it down into what I remember most strongly: a man in an ingeniously fake-looking polar bear costume (funnier than the \"bear\" from Hercules in New York); an extra with the most unnatural laugh you're ever likely to hear; an ex-dope addict martian with tics; kid actors who make sure every syllable of their lines are slowly and caaarreee-fulll-yyy prrooo-noun-ceeed; a newspaper headline stating that Santa's been \"kidnaped\", and a giant robot. Yes, you read that right. A giant robot.\n",
    " \n",
    "The worst acting job in here must be when Mother Claus and her elves have been \"frozen\" by the \"Martians'\" weapons. Could they be *more* trembling? I know this was the sixties and everyone was doped up, but still.\n",
    "'''\n",
    "print(review_santa)"
   ]
  },
  {
   "cell_type": "code",
   "execution_count": 19,
   "metadata": {
    "collapsed": true
   },
   "outputs": [],
   "source": [
    "sentence = \"I am good\"\n",
    "words = create_word_features(word_tokenize(\"Hello world\"))"
   ]
  },
  {
   "cell_type": "code",
   "execution_count": 23,
   "metadata": {
    "collapsed": true
   },
   "outputs": [],
   "source": [
    "def create_word_features(w):\n",
    "    useful_words = [w.lower() for w in words if w.lower() not in stopwords.words('english')]\n",
    "    my_dict = dict([(word, True) for word in useful_words])\n",
    "    \n",
    "    return my_dict"
   ]
  },
  {
   "cell_type": "code",
   "execution_count": 32,
   "metadata": {},
   "outputs": [
    {
     "data": {
      "text/plain": [
       "['I', 'am', 'good', 'and', 'fine', 'but', 'i', 'am', 'unhappy']"
      ]
     },
     "execution_count": 32,
     "metadata": {},
     "output_type": "execute_result"
    }
   ],
   "source": [
    "sentence = \"I am good and fine but i am unhappy\"\n",
    "words = word_tokenize(sentence)\n",
    "words\n",
    "#words = create_word_features(word_tokenize(\"Hello world\"))"
   ]
  },
  {
   "cell_type": "code",
   "execution_count": 33,
   "metadata": {
    "collapsed": true
   },
   "outputs": [],
   "source": [
    "words = create_word_features(words)"
   ]
  },
  {
   "cell_type": "code",
   "execution_count": 34,
   "metadata": {},
   "outputs": [
    {
     "data": {
      "text/plain": [
       "{'fine': True, 'good': True, 'unhappy': True}"
      ]
     },
     "execution_count": 34,
     "metadata": {},
     "output_type": "execute_result"
    }
   ],
   "source": [
    "words"
   ]
  },
  {
   "cell_type": "code",
   "execution_count": 35,
   "metadata": {},
   "outputs": [
    {
     "data": {
      "text/plain": [
       "'positive'"
      ]
     },
     "execution_count": 35,
     "metadata": {},
     "output_type": "execute_result"
    }
   ],
   "source": [
    "classifier.classify(words)"
   ]
  },
  {
   "cell_type": "code",
   "execution_count": null,
   "metadata": {
    "collapsed": true
   },
   "outputs": [],
   "source": []
  }
 ],
 "metadata": {
  "kernelspec": {
   "display_name": "Python 3",
   "language": "python",
   "name": "python3"
  },
  "language_info": {
   "codemirror_mode": {
    "name": "ipython",
    "version": 3
   },
   "file_extension": ".py",
   "mimetype": "text/x-python",
   "name": "python",
   "nbconvert_exporter": "python",
   "pygments_lexer": "ipython3",
   "version": "3.6.0"
  }
 },
 "nbformat": 4,
 "nbformat_minor": 2
}
