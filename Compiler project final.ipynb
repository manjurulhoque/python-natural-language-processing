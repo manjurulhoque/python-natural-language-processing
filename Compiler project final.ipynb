{
 "cells": [
  {
   "cell_type": "code",
   "execution_count": 16,
   "metadata": {
    "collapsed": true
   },
   "outputs": [],
   "source": [
    "import nltk\n",
    "from nltk.tokenize import word_tokenize\n",
    "from nltk.corpus import wordnet\n",
    "from nltk.corpus import movie_reviews\n",
    "from nltk.classify import NaiveBayesClassifier\n",
    "from nltk.corpus import stopwords\n",
    "import string\n",
    "from string import punctuation"
   ]
  },
  {
   "cell_type": "code",
   "execution_count": 83,
   "metadata": {},
   "outputs": [],
   "source": [
    "def word_featuress(words):\n",
    "    words = [w.lower() for w in words if w.lower() not in string.punctuation]\n",
    "    useful_words = [w.lower() for w in words if w.lower() not in stopwords.words('english')]\n",
    "    my_dict = dict([(word, True) for word in useful_words])\n",
    "    return my_dict\n",
    "\n",
    "def word_features(words):\n",
    "    #words = [w.lower() for w in words if w.lower() not in string.punctuation]\n",
    "    useful_words = [w.lower() for w in words if w.lower() not in stopwords.words('english')]\n",
    "    my_dict = dict([(word, True) for word in useful_words])\n",
    "    return my_dict"
   ]
  },
  {
   "cell_type": "code",
   "execution_count": 95,
   "metadata": {},
   "outputs": [],
   "source": [
    "neg_reviews = []\n",
    "for fileid in movie_reviews.fileids('neg')[:10]:\n",
    "    words = movie_reviews.words(fileid)\n",
    "#     print(word_features(words))\n",
    "    neg_reviews.append((words, \"negative\"))"
   ]
  },
  {
   "cell_type": "code",
   "execution_count": 96,
   "metadata": {},
   "outputs": [],
   "source": [
    "pos_reviews = []\n",
    "for fileid in movie_reviews.fileids('pos')[:10]:\n",
    "    words = movie_reviews.words(fileid)\n",
    "    #print(word_features(words))\n",
    "    pos_reviews.append((words, \"positive\"))"
   ]
  },
  {
   "cell_type": "code",
   "execution_count": 98,
   "metadata": {},
   "outputs": [
    {
     "data": {
      "text/plain": [
       "[(['plot', ':', 'two', 'teen', 'couples', 'go', 'to', ...], 'negative'),\n",
       " (['the', 'happy', 'bastard', \"'\", 's', 'quick', 'movie', ...], 'negative'),\n",
       " (['call', 'it', 'a', 'road', 'trip', 'for', 'the', ...], 'negative'),\n",
       " (['plot', ':', 'a', 'young', 'french', 'boy', 'sees', ...], 'negative'),\n",
       " (['films', 'adapted', 'from', 'comic', 'books', 'have', ...], 'positive'),\n",
       " (['every', 'now', 'and', 'then', 'a', 'movie', 'comes', ...], 'positive'),\n",
       " (['you', \"'\", 've', 'got', 'mail', 'works', 'alot', ...], 'positive'),\n",
       " (['\"', 'jaws', '\"', 'is', 'a', 'rare', 'film', 'that', ...], 'positive'),\n",
       " (['moviemaking', 'is', 'a', 'lot', 'like', 'being', ...], 'positive'),\n",
       " (['on', 'june', '30', ',', '1960', ',', 'a', 'self', ...], 'positive'),\n",
       " (['apparently', ',', 'director', 'tony', 'kaye', 'had', ...], 'positive'),\n",
       " (['one', 'of', 'my', 'colleagues', 'was', 'surprised', ...], 'positive'),\n",
       " (['after', 'bloody', 'clashes', 'and', 'independence', ...], 'positive'),\n",
       " (['the', 'american', 'action', 'film', 'has', 'been', ...], 'positive')]"
      ]
     },
     "execution_count": 98,
     "metadata": {},
     "output_type": "execute_result"
    }
   ],
   "source": [
    "reviews = neg_reviews + pos_reviews\n",
    "\n",
    "test_reviews = reviews[:2] + reviews[8:]\n",
    "test_reviews"
   ]
  },
  {
   "cell_type": "code",
   "execution_count": 115,
   "metadata": {
    "scrolled": true
   },
   "outputs": [
    {
     "data": {
      "text/plain": [
       "dict_keys(['plot', ':', 'two', 'teen', 'couples', 'go', 'to', 'a', 'church', 'party', ',', 'drink', 'and', 'then', 'drive', '.', 'they', 'get', 'into', 'an', 'accident', 'one', 'of', 'the', 'guys', 'dies', 'but', 'his', 'girlfriend', 'continues', 'see', 'him', 'in', 'her', 'life', 'has', 'nightmares', 'what', \"'\", 's', 'deal', '?', 'watch', 'movie', '\"', 'sorta', 'find', 'out', 'critique', 'mind', '-', 'fuck', 'for', 'generation', 'that', 'touches', 'on', 'very', 'cool', 'idea', 'presents', 'it', 'bad', 'package', 'which', 'is', 'makes', 'this', 'review', 'even', 'harder', 'write', 'since', 'i', 'generally', 'applaud', 'films', 'attempt', 'break', 'mold', 'mess', 'with', 'your', 'head', 'such', '(', 'lost', 'highway', '&', 'memento', ')', 'there', 'are', 'good', 'ways', 'making', 'all', 'types', 'these', 'folks', 'just', 'didn', 't', 'snag', 'correctly', 'seem', 'have', 'taken', 'pretty', 'neat', 'concept', 'executed', 'terribly', 'so', 'problems', 'well', 'its', 'main', 'problem', 'simply', 'too', 'jumbled', 'starts', 'off', 'normal', 'downshifts', 'fantasy', 'world', 'you', 'as', 'audience', 'member', 'no', 'going', 'dreams', 'characters', 'coming', 'back', 'from', 'dead', 'others', 'who', 'look', 'like', 'strange', 'apparitions', 'disappearances', 'looooot', 'chase', 'scenes', 'tons', 'weird', 'things', 'happen', 'most', 'not', 'explained', 'now', 'personally', 'don', 'trying', 'unravel', 'film', 'every', 'when', 'does', 'give', 'me', 'same', 'clue', 'over', 'again', 'kind', 'fed', 'up', 'after', 'while', 'biggest', 'obviously', 'got', 'big', 'secret', 'hide', 'seems', 'want', 'completely', 'until', 'final', 'five', 'minutes', 'do', 'make', 'entertaining', 'thrilling', 'or', 'engaging', 'meantime', 'really', 'sad', 'part', 'arrow', 'both', 'dig', 'flicks', 'we', 'actually', 'figured', 'by', 'half', 'way', 'point', 'strangeness', 'did', 'start', 'little', 'bit', 'sense', 'still', 'more', 'guess', 'bottom', 'line', 'movies', 'should', 'always', 'sure', 'before', 'given', 'password', 'enter', 'understanding', 'mean', 'showing', 'melissa', 'sagemiller', 'running', 'away', 'visions', 'about', '20', 'throughout', 'plain', 'lazy', '!', 'okay', 'people', 'chasing', 'know', 'need', 'how', 'giving', 'us', 'different', 'offering', 'further', 'insight', 'down', 'apparently', 'studio', 'took', 'director', 'chopped', 'themselves', 'shows', 'might', 've', 'been', 'decent', 'here', 'somewhere', 'suits', 'decided', 'turning', 'music', 'video', 'edge', 'would', 'actors', 'although', 'wes', 'bentley', 'seemed', 'be', 'playing', 'exact', 'character', 'he', 'american', 'beauty', 'only', 'new', 'neighborhood', 'my', 'kudos', 'holds', 'own', 'entire', 'feeling', 'unraveling', 'overall', 'doesn', 'stick', 'because', 'entertain', 'confusing', 'rarely', 'excites', 'feels', 'redundant', 'runtime', 'despite', 'ending', 'explanation', 'craziness', 'came', 'oh', 'horror', 'slasher', 'flick', 'packaged', 'someone', 'assuming', 'genre', 'hot', 'kids', 'also', 'wrapped', 'production', 'years', 'ago', 'sitting', 'shelves', 'ever', 'whatever', 'skip', 'where', 'joblo', 'nightmare', 'elm', 'street', '3', '7', '/', '10', 'blair', 'witch', '2', 'crow', '9', 'salvation', '4', 'stir', 'echoes', '8', 'happy', 'bastard', 'quick', 'damn', 'y2k', 'bug', 'starring', 'jamie', 'lee', 'curtis', 'another', 'baldwin', 'brother', 'william', 'time', 'story', 'regarding', 'crew', 'tugboat', 'comes', 'across', 'deserted', 'russian', 'tech', 'ship', 'kick', 'power', 'within', 'gore', 'bringing', 'few', 'action', 'sequences', 'virus', 'empty', 'flash', 'substance', 'why', 'was', 'middle', 'nowhere', 'origin', 'pink', 'flashy', 'thing', 'hit', 'mir', 'course', 'donald', 'sutherland', 'stumbling', 'around', 'drunkenly', 'hey', 'let', 'some', 'robots', 'acting', 'below', 'average', 'likes', 're', 'likely', 'work', 'halloween', 'h20', 'wasted', 'real', 'star', 'stan', 'winston', 'robot', 'design', 'schnazzy', 'cgi', 'occasional', 'shot', 'picking', 'brain', 'if', 'body', 'parts', 'turn', 'otherwise', 'much', 'sunken', 'jaded', 'viewer', 'thankful', 'invention', 'timex', 'indiglo', 'based', 'late', '1960', 'television', 'show', 'name', 'mod', 'squad', 'tells', 'tale', 'three', 'reformed', 'criminals', 'under', 'employ', 'police', 'undercover', 'however', 'wrong', 'evidence', 'gets', 'stolen', 'immediately', 'suspicion', 'ads', 'cuts', 'claire', 'dane', 'nice', 'hair', 'cute', 'outfits', 'car', 'chases', 'stuff', 'blowing', 'sounds', 'first', 'fifteen', 'quickly', 'becomes', 'apparent', 'certainly', 'slick', 'looking', 'complete', 'costumes', 'isn', 'enough', 'best', 'described', 'cross', 'between', 'hour', 'long', 'cop', 'stretched', 'span', 'single', 'clich', 'matter', 'elements', 'recycled', 'everything', 'already', 'seen', 'nothing', 'spectacular', 'sometimes', 'bordering', 'wooden', 'danes', 'omar', 'epps', 'deliver', 'their', 'lines', 'bored', 'transfers', 'onto', 'escape', 'relatively', 'unscathed', 'giovanni', 'ribisi', 'plays', 'resident', 'crazy', 'man', 'ultimately', 'being', 'worth', 'watching', 'unfortunately', 'save', 'convoluted', 'apart', 'occupying', 'screen', 'young', 'cast', 'clothes', 'hip', 'soundtrack', 'appears', 'geared', 'towards', 'teenage', 'mindset', 'r', 'rating', 'content', 'justify', 'juvenile', 'older', 'information', 'literally', 'spoon', 'hard', 'instead', 'telling', 'dialogue', 'poorly', 'written', 'extremely', 'predictable', 'progresses', 'won', 'care', 'heroes', 'any', 'jeopardy', 'll', 'aren', 'basing', 'nobody', 'remembers', 'questionable', 'wisdom', 'especially', 'considers', 'target', 'fact', 'number', 'memorable', 'can', 'counted', 'hand', 'missing', 'finger', 'times', 'checked', 'six', 'clear', 'indication', 'them', 'than', 'cash', 'spending', 'dollar', 'judging', 'rash', 'awful', 'seeing', 'avoid', 'at', 'costs', 'quest', 'camelot', 'warner', 'bros', 'feature', 'length', 'fully', 'animated', 'steal', 'clout', 'disney', 'cartoon', 'empire', 'mouse', 'reason', 'worried', 'other', 'recent', 'challenger', 'throne', 'last', 'fall', 'promising', 'flawed', '20th', 'century', 'fox', 'anastasia', 'hercules', 'lively', 'colorful', 'palate', 'had', 'beat', 'hands', 'crown', '1997', 'piece', 'animation', 'year', 'contest', 'arrival', 'magic', 'kingdom', 'mediocre', '--', 'd', 'pocahontas', 'those', 'keeping', 'score', 'nearly', 'dull', 'revolves', 'adventures', 'free', 'spirited', 'kayley', 'voiced', 'jessalyn', 'gilsig', 'early', 'daughter', 'belated', 'knight', 'king', 'arthur', 'round', 'table', 'dream', 'follow', 'father', 'footsteps', 'she', 'chance', 'evil', 'warlord', 'ruber', 'gary', 'oldman', 'ex', 'gone', 'steals', 'magical', 'sword', 'excalibur', 'accidentally', 'loses', 'dangerous', 'booby', 'trapped', 'forest', 'help', 'hunky', 'blind', 'timberland', 'dweller', 'garrett', 'carey', 'elwes', 'headed', 'dragon', 'eric', 'idle', 'rickles', 'arguing', 'itself', 'able', 'medieval', 'sexist', 'prove', 'fighter', 'side', 'pure', 'showmanship', 'essential', 'element', 'expected', 'climb', 'high', 'ranks', 'differentiates', 'something', 'saturday', 'morning', 'subpar', 'instantly', 'forgettable', 'songs', 'integrated', 'computerized', 'footage', 'compare', 'run', 'angry', 'ogre', 'herc', 'battle', 'hydra', 'rest', 'case', 'stink', 'none', 'remotely', 'interesting', 'race', 'bland', 'end', 'tie', 'win', 'comedy', 'shtick', 'awfully', 'cloying', 'least', 'signs', 'pulse', 'fans', \"-'\", '90s', 'tgif', 'will', 'thrilled', 'jaleel', 'urkel', 'white', 'bronson', 'balki', 'pinchot', 'sharing', 'nicely', 'realized', 'though', 'm', 'loss', 'recall', 'specific', 'providing', 'voice', 'talent', 'enthusiastic', 'paired', 'singers', 'sound', 'musical', 'moments', 'jane', 'seymour', 'celine', 'dion', 'must', 'strain', 'through', 'aside', 'children', 'probably', 'adults', 'grievous', 'error', 'lack', 'personality', 'learn', 'goes', 'synopsis', 'mentally', 'unstable', 'undergoing', 'psychotherapy', 'saves', 'boy', 'potentially', 'fatal', 'falls', 'love', 'mother', 'fledgling', 'restauranteur', 'unsuccessfully', 'attempting', 'gain', 'woman', 'favor', 'takes', 'pictures', 'kills', 'comments', 'stalked', 'yet', 'seemingly', 'endless', 'string', 'spurned', 'psychos', 'getting', 'revenge', 'type', 'stable', 'category', '1990s', 'industry', 'theatrical', 'direct', 'proliferation', 'may', 'due', 'typically', 'inexpensive', 'produce', 'special', 'effects', 'stars', 'serve', 'vehicles', 'nudity', 'allowing', 'frequent', 'night', 'cable', 'wavers', 'slightly', 'norm', 'respect', 'psycho', 'never', 'affair', ';', 'contrary', 'rejected', 'rather', 'lover', 'wife', 'husband', 'entry', 'doomed', 'collect', 'dust', 'viewed', 'midnight', 'provide', 'suspense', 'sets', 'interspersed', 'opening', 'credits', 'instance', 'serious', 'sounding', 'narrator', 'spouts', 'statistics', 'stalkers', 'ponders', 'cause', 'stalk', 'implicitly', 'implied', 'men', 'shown', 'snapshot', 'actor', 'jay', 'underwood', 'states', 'daryl', 'gleason', 'stalker', 'brooke', 'daniels', 'meant', 'called', 'guesswork', 'required', 'proceeds', 'begins', 'obvious', 'sequence', 'contrived', 'quite', 'brings', 'victim', 'together', 'obsesses', 'follows', 'tries', 'woo', 'plans', 'become', 'desperate', 'elaborate', 'include', 'cliche', 'murdered', 'pet', 'require', 'found', 'exception', 'cat', 'shower', 'events', 'lead', 'inevitable', 'showdown', 'survives', 'invariably', 'conclusion', 'turkey', 'uniformly', 'adequate', 'anything', 'home', 'either', 'turns', 'toward', 'melodrama', 'overdoes', 'words', 'manages', 'creepy', 'pass', 'demands', 'maryam', 'abo', 'close', 'played', 'bond', 'chick', 'living', 'daylights', 'equally', 'title', 'ditzy', 'strong', 'independent', 'business', 'owner', 'needs', 'proceed', 'example', 'suspicions', 'ensure', 'use', 'excuse', 'decides', 'return', 'toolbox', 'left', 'place', 'house', 'leave', 'door', 'answers', 'opens', 'wanders', 'returns', 'enters', 'our', 'heroine', 'danger', 'somehow', 'parked', 'front', 'right', 'oblivious', 'presence', 'inside', 'whole', 'episode', 'places', 'incredible', 'suspension', 'disbelief', 'questions', 'validity', 'intelligence', 'receives', 'highly', 'derivative', 'somewhat', 'boring', 'cannot', 'watched', 'rated', 'mostly', 'several', 'murder', 'brief', 'strip', 'bar', 'offensive', 'many', 'thrillers', 'mood', 'stake', 'else', 'capsule', '2176', 'planet', 'mars', 'taking', 'custody', 'accused', 'murderer', 'face', 'menace', 'lot', 'fighting', 'john', 'carpenter', 'reprises', 'ideas', 'previous', 'assault', 'precinct', '13', 'homage', 'himself', '0', '+', 'believes', 'fight', 'horrible', 'writer', 'supposedly', 'expert', 'mistake', 'ghosts', 'drawn', 'humans', 'surprisingly', 'low', 'powered', 'alien', 'addition', 'anybody', 'made', 'grounds', 'sue', 'chock', 'full', 'pieces', 'prince', 'darkness', 'surprising', 'managed', 'fit', 'admittedly', 'novel', 'science', 'fiction', 'experience', 'terraformed', 'walk', 'surface', 'without', 'breathing', 'gear', 'budget', 'mentioned', 'gravity', 'increased', 'earth', 'easier', 'society', 'changed', 'advanced', 'culture', 'women', 'positions', 'control', 'view', 'stagnated', 'female', 'beyond', 'minor', 'technological', 'advances', 'less', '175', 'expect', 'change', 'ten', 'basic', 'common', 'except', 'yes', 'replaced', 'tacky', 'rundown', 'martian', 'mining', 'colony', 'having', 'criminal', 'napolean', 'wilson', 'desolation', 'williams', 'facing', 'hoodlums', 'automatic', 'weapons', 'nature', 'behave', 'manner', 'essentially', 'human', 'savages', 'lapse', 'imagination', 'told', 'flashback', 'entirely', 'filmed', 'almost', 'tones', 'red', 'yellow', 'black', 'powerful', 'scene', 'train', 'rushing', 'heavy', 'sadly', 'buildup', 'terror', 'creates', 'looks', 'fugitive', 'wannabes', 'rock', 'band', 'kiss', 'building', 'bunch', 'sudden', 'jump', 'sucker', 'thinking', 'scary', 'happening', 'standard', 'haunted', 'shock', 'great', 'newer', 'unimpressive', 'digital', 'decapitations', 'fights', 'short', 'stretch', 'release', 'mission', 'panned', 'reviewers', 'better', 'rate', 'scale', 'following', 'showed', 'liked', 'moderately', 'classic', 'comment', 'twice', 'ask', 'yourself', '8mm', 'eight', 'millimeter', 'wholesome', 'surveillance', 'sight', 'values', 'becoming', 'enmeshed', 'seedy', 'sleazy', 'underworld', 'hardcore', 'pornography', 'bubbling', 'beneath', 'town', 'americana', 'sordid', 'sick', 'depraved', 'necessarily', 'stop', 'order', 'satisfy', 'twisted', 'desires', 'position', 'influence', 'kinds', 'demented', 'talking', 'snuff', 'supposed', 'documentaries', 'victims', 'brutalized', 'killed', 'camera', 'joel', 'schumacher', 'credit', 'batman', 'robin', 'kill', 'forever', 'client', 'thirds', 'unwind', 'fairly', 'conventional', 'persons', 'drama', 'albeit', 'particularly', 'unsavory', 'core', 'threatening', 'along', 'explodes', 'violence', 'think', 'finally', 'tags', 'ridiculous', 'self', 'righteous', 'finale', 'drags', 'unpleasant', 'trust', 'waste', 'hours', 'nicolas', 'snake', 'eyes', 'cage', 'private', 'investigator', 'tom', 'welles', 'hired', 'wealthy', 'philadelphia', 'widow', 'determine', 'whether', 'reel', 'safe', 'documents', 'girl', 'assignment', 'factly', 'puzzle', 'neatly', 'specialized', 'skills', 'training', 'easy', 'cops', 'toilet', 'tanks', 'clues', 'deeper', 'digs', 'investigation', 'obsessed', 'george', 'c', 'scott', 'paul', 'schrader', 'occasionally', 'flickering', 'whirs', 'sprockets', 'winding', 'projector', 'reminding', 'task', 'hints', 'toll', 'lovely', 'catherine', 'keener', 'frustrated', 'cleveland', 'ugly', 'split', 'level', 'harrisburg', 'pa', 'condemn', 'condone', 'subject', 'exploits', 'irony', 'seven', 'scribe', 'andrew', 'kevin', 'walker', 'vision', 'lane', 'limited', 'hollywood', 'product', 'snippets', 'covering', 'later', 'joaquin', 'phoenix', 'far', 'adult', 'bookstore', 'flunky', 'max', 'california', 'cover', 'horrid', 'screened', 'familiar', 'revelation', 'sexual', 'deviants', 'indeed', 'monsters', 'everyday', 'neither', 'super', 'nor', 'shocking', 'banality', 'exactly', 'felt', 'weren', 'nine', 'laughs', 'months', 'terrible', 'mr', 'hugh', 'grant', 'huge', 'dork', 'oral', 'sex', 'prostitution', 'referring', 'bugs', 'annoying', 'adam', 'sandler', 'jim', 'carrey', 'eye', 'flutters', 'nervous', 'smiles', 'slapstick', 'fistfight', 'delivery', 'room', 'culminating', 'joan', 'cusack', 'lap', 'paid', '$', '60', 'included', 'obscene', 'double', 'entendres', 'obstetrician', 'pregnant', 'pussy', 'size', 'hairs', 'coat', 'nonetheless', 'exchange', 'cookie', 'cutter', 'originality', 'humor', 'successful', 'child', 'psychiatrist', 'psychologist', 'scriptwriters', 'could', 'inject', 'unfunny', 'kid', 'dad', 'asshole', 'eyelashes', 'offers', 'smile', 'responds', 'english', 'accent', 'attitude', 'possibly', '_huge_', 'beside', 'includes', 'needlessly', 'stupid', 'jokes', 'olds', 'everyone', 'shakes', 'anyway', 'finds', 'usual', 'reaction', 'fluttered', 'paves', 'possible', 'pregnancy', 'birth', 'gag', 'book', 'friend', 'arnold', 'provides', 'cacophonous', 'funny', 'beats', 'costumed', 'arnie', 'dinosaur', 'draw', 'parallels', 'toy', 'store', 'jeff', 'goldblum', 'hid', 'dreadful', 'hideaway', 'artist', 'fear', 'simultaneous', 'longing', 'commitment', 'doctor', 'recently', 'switch', 'veterinary', 'medicine', 'obstetrics', 'joke', 'old', 'foreign', 'guy', 'mispronounces', 'stereotype', 'say', 'yakov', 'smirnov', 'favorite', 'vodka', 'hence', 'take', 'volvo', 'nasty', 'unamusing', 'heads', 'simultaneously', 'groan', 'failure', 'loud', 'failed', 'uninspired', 'lunacy', 'sunset', 'boulevard', 'arrest', 'please', 'caught', 'pants', 'bring', 'theaters', 'faces', '90', 'forced', 'unauthentic', 'anyone', 'q', '80', 'sorry', 'money', 'unfulfilled', 'desire', 'spend', 'bucks', 'call', 'road', 'trip', 'walking', 'wounded', 'stellan', 'skarsg', 'rd', 'convincingly', 'zombified', 'drunken', 'loser', 'difficult', 'smelly', 'boozed', 'reliable', 'swedish', 'adds', 'depth', 'significance', 'plodding', 'aberdeen', 'sentimental', 'painfully', 'mundane', 'european', 'playwright', 'august', 'strindberg', 'built', 'career', 'families', 'relationships', 'paralyzed', 'secrets', 'unable', 'express', 'longings', 'accurate', 'reflection', 'strives', 'focusing', 'pairing', 'alcoholic', 'tomas', 'alienated', 'openly', 'hostile', 'yuppie', 'kaisa', 'lena', 'headey', 'gossip', 'haven', 'spoken', 'wouldn', 'norway', 'scotland', 'automobile', 'charlotte', 'rampling', 'sand', 'rotting', 'hospital', 'bed', 'cancer', 'soap', 'opera', 'twist', 'days', 'live', 'blitzed', 'step', 'foot', 'plane', 'hits', 'open', 'loathing', 'each', 'periodic', 'stops', 'puke', 'dashboard', 'whenever', 'muttering', 'rotten', 'turned', 'sloshed', 'viewpoint', 'recognizes', 'apple', 'hasn', 'fallen', 'tree', 'nosebleeds', 'snorting', 'coke', 'sabotages', 'personal', 'indifference', 'restrain', 'vindictive', 'temper', 'ain', 'pair', 'true', 'notes', 'unspoken', 'familial', 'empathy', 'note', 'repetitively', 'bitchy', 'screenwriters', 'kristin', 'amundsen', 'hans', 'petter', 'moland', 'fabricate', 'series', 'contrivances', 'propel', 'forward', 'roving', 'hooligans', 'drunks', 'nosy', 'flat', 'tires', 'figure', 'schematic', 'convenient', 'narrative', 'reach', 'unveil', 'dark', 'past', 'simplistic', 'devices', 'trivialize', 'conflict', 'mainstays', 'wannabe', 'exists', 'purely', 'sake', 'weak', 'unimaginative', 'casting', 'thwarts', 'pivotal', 'role', 'were', 'stronger', 'actress', 'perhaps', 'coast', 'performances', 'moody', 'haunting', 'cinematography', 'rendering', 'pastoral', 'ghost', 'reference', 'certain', 'superior', 'indie', 'intentional', 'busy', 'using', 'furrowed', 'brow', 'convey', 'twitch', 'insouciance', 'paying', 'attention', 'maybe', 'doing', 'reveal', 'worthwhile', 'earlier', 'released', '2001', 'jonathan', 'nossiter', 'captivating', 'wonders', 'disturbed', 'parental', 'figures', 'bound', 'ceremonial', 'wedlock', 'differences', 'presented', 'significant', 'luminous', 'diva', 'preening', 'static', 'solid', 'performance', 'pathetic', 'drunk', 'emote', 'besides', 'catatonic', 'sorrow', 'genuine', 'ferocity', 'sexually', 'charged', 'frisson', 'during', 'understated', 'confrontations', 'suggest', 'gray', 'zone', 'complications', 'accompany', 'torn', 'romance', 'stifled', 'curiosity', 'thoroughly', 'explores', 'neurotic', 'territory', 'delving', 'americanization', 'greece', 'mysticism', 'illusion', 'deflect', 'pain', 'overloaded', 'willing', 'come', 'traditional', 'ambitious', 'sleepwalk', 'rhythms', 'timing', 'driven', 'stories', 'complexities', 'depressing', 'answer', 'lawrence', 'kasdan', 'trite', 'useful', 'grand', 'canyon', 'steve', 'martin', 'mogul', 'pronounces', 'riddles', 'answered', 'advice', 'heart', 'french', 'sees', 'parents', 'tim', 'roth', 'oops', 'vows', 'taught', 'musketeer', 'dude', 'used', 'fourteen', 'arrgh', 'swish', 'zzzzzzz', 'original', 'lacks', 'energy', 'next', 'hmmmm', 'justin', 'chambers', 'basically', 'uncharismatic', 'version', 'chris', 'o', 'donnell', 'range', 'mena', 'suvari', 'thora', 'birch', 'dungeons', 'dragons', 'miscast', 'deliveries', 'piss', 'poor', 'ms', 'fault', 'definitely', 'higher', 'semi', 'saving', 'grace', 'wise', 'irrepressible', 'once', 'thousand', 'god', 'beg', 'agent', 'marketplace', 'modern', 'day', 'roles', 'romantic', 'gunk', 'alright', 'yeah', 'yikes', 'notches', 'fellas', 'blares', 'ear', 'accentuate', 'annoy', 'important', 'behind', 'recognize', 'epic', 'fluffy', 'rehashed', 'cake', 'created', 'shrewd', 'advantage', 'kung', 'fu', 'phenomenon', 'test', 'dudes', 'keep', 'reading', 'editing', 'shoddy', 'banal', 'stilted', 'plentiful', 'top', 'horse', 'carriage', 'stand', 'opponent', 'scampering', 'cut', 'mouseketeer', 'rope', 'tower', 'jumping', 'chords', 'hanging', 'says', '14', 'shirt', 'strayed', 'championing', 'fun', 'stretches', 'atrocious', 'lake', 'reminded', 'school', 'cringe', 'musketeers', 'fat', 'raison', 'etre', 'numbers', 'hoping', 'packed', 'stuntwork', 'promoted', 'trailer', 'major', 'swashbuckling', 'beginning', 'finishes', 'juggling', 'ladders', 'ladder', 'definite', 'keeper', 'regurgitated', 'crap', 'tell', 'deneuve', 'placed', 'hullo', 'barely', 'ugh', 'small', 'annoyed', 'trash', 'gang', 'vow', 'stay', 'thank', 'outlaws', '5', 'crouching', 'tiger', 'hidden', 'matrix', 'replacement', 'killers', '6', 'romeo', 'die', 'shanghai', 'noon', 'adapted', 'comic', 'books', 'plenty', 'success', 'superheroes', 'superman', 'spawn', 'casper', 'arthouse', 'crowd', 'hell', 'starters', 'alan', 'moore', 'eddie', 'campbell', 'brought', 'medium', 'mid', '80s', '12', 'watchmen', 'researched', 'jack', 'ripper', 'saying', 'michael', 'jackson', 'starting', 'odd', 'graphic', '500', 'pages', '30', 'consist', 'footnotes', 'dismiss', 'source', 'block', 'directors', 'albert', 'allen', 'hughes', 'brothers', 'ludicrous', 'carrot', 'riddle', 'set', 'ghetto', 'features', 'violent', 'crime', 'mad', 'geniuses', 'ii', 'question', 'whitechapel', '1888', 'london', 'east', 'filthy', 'sooty', 'whores', 'unfortunates', 'mysterious', 'psychopath', 'carving', 'profession', 'surgical', 'precision', 'stiff', 'copper', 'peter', 'godley', 'robbie', 'coltrane', 'calls', 'inspector', 'frederick', 'abberline', 'johnny', 'depp', 'blow', 'crack', 'widower', 'prophetic', 'quell', 'copious', 'amounts', 'absinthe', 'opium', 'upon', 'arriving', 'befriends', 'unfortunate', 'named', 'mary', 'kelly', 'heather', 'graham', 'investigate', 'horribly', 'gruesome', 'crimes', 'surgeon', 'stomach', 'briefed', 'particulars', 'unique', 'theory', 'identity', 'killer', 'reasons', 'chooses', 'slay', 'bother', 'cloaking', 'terry', 'hayes', 'vertical', 'limit', 'rafael', 'yglesias', 'les', 'mis', 'rables', 'job', 'viewers', 'locals', 'blindly', 'blame', 'jews', 'indians', 'englishman', 'capable', 'committing', 'ghastly', 'acts', 'whistling', 'stonecutters', 'song', 'simpsons', 'electric', 'guttenberg', 'worry', 'appearance', 'bleak', 'burton', 'apes', 'sleepy', 'hollow', 'print', 'saw', 'wasn', 'finished', 'color', 'finalized', 'marilyn', 'manson', 'cinematographer', 'deming', 'word', 'ably', 'captures', 'dreariness', 'victorian', 'era', 'helped', 'killing', 'remind', 'flashbacks', 'twin', 'peaks', 'pales', 'comparison', 'oscar', 'winner', 'childs', 'shakespeare', 'prague', 'surroundings', 'dreamy', 'deftly', 'handling', 'british', 'ians', 'holm', 'joe', 'gould', 'richardson', '102', 'dalmatians', 'log', 'supporting', 'surprise', 'cringed', 'opened', 'mouth', 'imagining', 'irish', '00', 'sexuality', 'language', 'drug', 'suspect', 'stinker', 'everybody', 'critical', 'darling', 'mtv', '_election', 'matthew', 'broderick', 'reese', 'witherspoon', 'current', 'existed', 'week', 'deceptively', 'simple', 'washington', 'carver', 'student', 'elections', 'tracy', 'achiever', 'raised', 'megalomaniac', 'encourages', 'popular', 'slow', 'jock', 'nihilistic', 'sister', 'jumps', 'sleeper', 'expectations', 'quality', 'reviews', 'baggage', 'glowing', 'contrast', 'negative', 'hype', '_election_', 'disappointing', 'contains', 'details', 'lifted', 'directly', '_rushmore_', 'similarities', 'staggering', 'president', 'extraordinary', 'clubs', 'involved', 'play', 'fischer', 'tension', 'potential', 'relationship', 'teacher', 'parent', 'contributed', 'male', 'bumbling', 'pursues', 'extramarital', 'ruined', 'bee', 'sting', 'bill', 'murray', 'stings', 'happened', 'individual', 'screenplay', 'contain', 'points', 'aware', 'studios', 'geeks', 'hadn', 'formed', 'strengths', 'rely', 'fantastic', 'newcomer', 'jessica', 'anti', 'social', 'tammy', 'rooney', '_ferris', 'bueller_', 'teenagers', 'deserves', 'nomination', 'speech', 'gymnasium', 'bothering', 'amount', 'suppose', 'light', 'airy', 'sitcom', 'screws', 'tighten', 'tensions', 'mount', 'alexander', 'payne', 'add', 'frankly', 'distract', 'determination', 'throw', 'logical', 'tonal', 'nosedive', 'explicitly', 'mark', 'disappointment', 'mail', 'works', 'alot', 'attractive', 'share', 'profits', 'inventive', 'bone', 'shoot', 'shop', 'corner', 'adding', 'twists', 'against', 'defies', 'concepts', 'contemporary', 'filmmaking', 'overly', 'mushy', 'mention', 'manipulative', 'enjoyable', 'manipulation', 'absolutely', 'hated', 'ryan', 'hanks', 'teaming', 'sleepless', 'seattle', 'couldn', 'directing', 'helmed', 'storyline', 'cliched', 'insanely', 'likeable', 'discount', 'chain', 'meg', 'kathleen', 'kelley', 'proprietor', 'family', 'soon', 'bitter', 'rivals', 'internet', 'knows', 'person', 'mere', 'backdrop', 'mildly', 'subplots', 'fail', 'utter', 'cuteness', 'leads', 'climax', 'foreseeable', 'done', 'doubt', 'evokes', 'joy', 'discovers', 'online', 'filled', 'happiness', 'theater', 'smiling', 'jaws', 'rare', 'grabs', 'image', 'blackness', 'distant', 'underwater', 'ominous', 'bars', 'composer', 'infamous', 'dah', 'dum', 'steven', 'spielberg', 'wastes', 'water', 'swim', 'beautiful', 'deadly', 'lets', 'vulnerable', 'floating', 'ocean', 'attacked', 'relinquishes', 'grip', 'outstanding', 'builds', 'act', 'second', 'unlike', 'filmmakers', 'restraint', 'refuses', 'shark', 'merely', 'suggests', 'subjective', 'shots', 'truly', 'terrifying', 'imagery', 'chief', 'brody', 'roy', 'scheider', 'york', 'peaceful', 'station', 'amity', 'island', 'fictitious', 'england', 'resort', 'gun', 'fired', '25', 'shaken', 'vicious', 'attacks', 'fourth', 'july', 'mayor', 'larry', 'vaughn', 'hamilton', 'shut', 'beaches', 'reliant', 'summer', 'tourist', 'joined', 'matt', 'hooper', 'richard', 'dreyfuss', 'marine', 'institute', 'fascinated', 'determined', 'knowledge', 'workings', 'perfect', 'engine', 'eating', 'machine', 'relents', 'join', 'crusty', 'quint', 'robert', 'shaw', 'decrepit', 'boat', 'orca', 'search', 'hunt', 'inevitably', 'hunted', 'thriller', 'keen', 'pacing', 'rolled', 'wonder', 'america', 'storm', '1975', 'box', 'office', 'champ', 'unceremoniously', 'dethroned', '1977', 'wars', 'today', 'fascination', 'par', 'hitchcock', 'age', 'technology', 'technical', 'including', 'mechanical', 'sharks', 'obsolete', 'improve', 'overkill', 'limitations', 'faced', 'produced', 'cinematic', 'characterization', 'sharp', 'creative', 'photography', 'dousing', 'known', 'redford', 'newman', 'nevertheless', 'guaranteed', 'careers', 'gave', 'refused', 'overshadowed', 'sympathetic', 'political', 'quagmire', 'warns', 'previously', 'graffiti', '1973', 'apprenticeship', 'duddy', 'kravitz', '1974', 'gives', 'mature', 'complex', 'gnarled', 'captain', 'ahab', 'sorely', 'overlooked', 'academy', 'awards', 'parody', 'grizzled', 'loner', 'whose', 'machismo', 'borders', 'masochism', 'deranged', 'caricature', 'deck', 'comparing', 'scars', 'experiences', 'aboard', 'u', 'indianapolis', 'navy', 'war', 'sunk', 'japanese', '1', '000', 'swarms', 'slowly', 'devoured', 'raising', 'put', 'delivers', 'rows', 'teeth', 'insatiable', 'urge', 'eat', 'epitome', 'mankind', 'fears', 'unknown', 'nemesis', 'survived', 'sinch', 'dinosaurs', 'whites', 'exist', 'large', 'threat', 'feel', 'queasy', 'writihing', 'dangling', 'unprotected', 'legs', 'ready', 'chomped', 'combination', 'actual', 'nicknamed', 'bruce', 'angles', 'forgotten', 'sort', 'precursor', 'waterworld', '1995', 'soggy', 'cost', 'overruns', 'universal', 'bomb', 'overcame', 'obstacles', 'delivered', 'finest', 'primal', 'scare', 'moviemaking', 'general', 'manager', 'nfl', 'team', 'post', 'salary', 'cap', 'allocate', 'resources', 'spent', 'defensive', 'tackle', 'linebackers', 'safeties', 'centers', 'teams', 'detroit', 'lions', 'boast', 'superstar', 'contract', 'field', 'herb', 'hire', 'recognizable', 'jackie', 'chan', 'barry', 'sanders', 'spins', 'darts', 'cutting', 'operation', 'condor', 'drives', 'motorcycle', 'crowded', 'streets', 'madrid', 'fleeing', 'armada', 'pursuers', 'identical', 'compact', 'cars', 'reminiscent', 'daylight', 'chicago', 'bears', 'pursuit', 'rescuing', 'runaway', 'baby', 'carriages', 'cent', 'invested', 'stunts', 'pay', 'bills', 'leaves', '75', 'cents', 'directs', 'scripts', 'dubbing', 'hideous', 'explains', 'morocco', 'spain', 'country', 'rumble', 'bronx', 'vancouver', 'canadian', 'rockies', 'clearly', 'visible', 'heck', 'haircut', 'hairstylist', 'mixture', 'master', 'sent', 'un', 'retrieve', 'cache', 'nazi', 'gold', 'north', 'african', 'desert', 'chased', 'horde', 'neo', 'sympathizers', 'stereotypical', 'arabs', 'correctness', 'scream', 'misuse', 'firearms', 'villain', 'broken', 'base', 'carried', 'everywhere', 'en', 'route', 'extended', 'hilarious', 'moroccan', 'motel', 'nazis', 'savage', 'natives', 'chop', 'socky', 'followed', 'centerpiece', 'wind', 'tunnel', 'choreographed', 'giant', 'kevlar', 'hamster', 'balls', 'smashed', 'crates', 'bananas', 'scorpions', 'ignore', 'gaping', 'holes', 'key', 'hitchhiking', 'sahara', 'pretentions', 'raiders', 'ark', 'knockoff', 'franchise', 'blocking', 'kazdan', 'lucas', 'producing', 'mainstream', 'ought', 'utilize', 'june', 'idealistic', 'pragmatic', 'became', '36', 'government', 'newly', 'state', 'formerly', 'belgian', 'congo', 'ousted', 'troops', 'captured', 'brutally', 'aides', 'meteoric', 'rise', 'international', 'filmmaker', 'raoul', 'peck', 'lumumba', 'patrice', 'eriq', 'ebouaney', 'helmer', '1991', 'award', 'winning', 'documentary', 'death', 'prophet', 'virtually', 'guaranteeing', 'fictional', 'account', 'patriot', 'remains', 'co', 'pascal', 'bonitzer', 'leader', 'perform', 'dismembering', 'bodies', 'images', 'hatchets', 'saws', 'fast', 'emptying', 'whiskey', 'bottles', 'grisly', 'meeting', 'among', 'leaders', 'owned', 'third', 'class', 'postal', 'worker', 'speaks', 'tribes', 'proclaiming', 'tribal', 'regional', 'national', 'mobile', 'congolese', 'movement', 'mnc', 'gaining', 'prominence', 'clerical', 'sell', 'beer', 'bustling', 'capital', 'stanleyville', 'colonial', 'empires', 'falling', 'savvy', 'chess', 'achieves', 'leadership', 'date', 'independence', 'approaches', 'tactically', 'nation', 'prime', 'minister', 'defense', 'presidency', 'joseph', 'kasa', 'vubu', 'maka', 'kotto', 'coalition', 'former', 'masters', 'continue', 'exert', 'struggling', 'strive', 'maintain', 'economic', 'hold', 'vast', 'natural', 'diamonds', 'seek', 'knowing', 'try', 'create', 'de', 'facto', 'initial', 'soviet', 'assistance', 'communist', 'integrity', 'cold', 'domination', 'situation', 'worse', 'army', 'mutinies', 'remaining', 'begin', 'evacuate', 'arm', 'violently', 'intervene', 'lucrative', 'katanga', 'province', 'succeeds', 'rival', 'moise', 'tschombe', 'nzonzi', 'access', 'conference', 'abroad', 'tumultuous', 'period', 'history', 'nations', 'odious', 'colonialists', 'ruled', 'seats', 'centuries', 'focuses', 'material', 'honest', 'portrayal', 'foes', 'movements', 'gripped', 'africa', '50', 'nigeria', 'somalia', 'born', 'varying', 'degrees', 'usually', 'dependent', 'colonized', 'effort', 'slice', 'unexplored', 'decades', 'standards', 'realistic', 'settings', 'maintained', 'traveled', 'zimbabwe', 'mozambique', 'covers', 'ground', 'yeoman', 'detailed', 'justice', 'evenly', 'linear', 'straightforward', 'teaches', 'preaches', 'concentrates', 'deeds', 'stalwart', 'saint', 'embellish', 'larger', 'persona', 'handled', 'perfunctory', 'interludes', 'embracing', 'lamenting', 'intent', 'flesh', 'shrift', 'lopsided', 'marks', 'convincing', 'charismatic', 'multifaceted', 'politically', 'deft', 'force', 'driving', 'ambitions', 'docudrama', 'tradition', 'outshine', 'complementing', 'efforts', 'educational', 'appeal', 'buffs', 'politicos', 'b', 'tony', 'kaye', 'x', 'removed', 'altogether', 'heard', 'input', 'focused', 'touchy', 'racism', 'edward', 'norton', 'believe', 'performers', 'derek', 'vinyard', 'skinhead', 'venice', 'beach', 'danny', 'furlong', 'beverly', 'angelo', 'davin', 'jennifer', 'lien', 'vandalizing', 'lands', 'prison', 'present', 'eager', 'path', 'adoption', 'supremacy', 'served', 'blown', 'understand', 'thoughtless', 'intelligent', 'articulate', 'beliefs', 'disturbingly', 'terms', 'controversial', 'preach', 'redemption', 'phase', 'partially', 'disagree', 'advocate', 'obnoxious', 'smart', 'believable', 'arbitrarily', 'group', 'passionate', 'punk', 'helps', 'talented', 'astonishing', 'frightening', 'shaved', 'swastika', 'chest', 'requires', 'shouting', 'ease', 'meanest', 'likable', 'gutsy', 'approach', 'subplot', 'principal', 'avery', 'brooks', 'purging', 'hatred', 'terrific', 'standouts', 'visually', 'indulges', 'artistic', 'choices', 'lots', 'motion', 'atmosphere', 'lately', 'skims', 'greatness', 'climactic', 'moving', 'picture', 'ends', 'pretentious', 'preachy', 'resolution', 'featuring', 'narration', 'subtle', 'slap', 'theme', 'disliked', 'imagine', 'pleased', 'timid', 'compelling', 'argument', 'advocating', 'colleagues', 'surprised', 'betsy', 'wedding', 'shocked', 'hear', 'understandable', 'consider', 'molly', 'ringwald', '1986', 'alda', 'duds', 'four', 'noteworthy', 'projects', 'misdemeanors', 'directed', 'vibrant', 'mixing', 'dramatic', 'bowl', 'whimsical', 'elixir', 'smooth', 'refreshing', 'welcome', 'pace', 'fare', 'bride', 'groom', 'dylan', 'walsh', 'nonentity', 'knob', 'unbearable', 'easily', 'weakest', 'link', 'cropped', 'orange', 'lip', 'grotesque', 'dress', 'designer', 'clown', 'matters', 'matches', 'thankfully', 'keeps', 'minimum', 'interested', 'periphery', 'device', 'working', 'italian', 'rich', 'gentile', 'homey', 'madeline', 'kahn', 'practical', 'ally', 'sheedy', 'lonely', 'clan', 'prim', 'proper', 'ostentatious', 'meet', 'mingle', 'clash', 'puts', 'versus', 'wonderfully', 'pleasant', 'surprises', 'expresses', 'anthony', 'lapaglia', 'seizes', 'spotlight', 'stevie', 'dee', 'suave', 'polite', 'mafioso', 'formally', 'courting', 'fashioned', 'chivalry', 'sincere', 'dim', 'witted', 'riot', 'uncanny', 'ringer', 'niro', 'alec', 'thrown', 'measure', 'attended', 'gangster', 'inspired', 'partly', 'tribute', 'model', 'rip', 'missed', 'scrumptious', 'extends', 'pesci', 'particular', 'sinks', 'unscrupulous', 'law', 'slum', 'lord', 'mob', 'ties', 'cheating', 'hara', 'challenge', 'touch', 'financially', 'strapped', 'bigger', 'wallet', 'adopts', 'psychological', 'plan', 'style', 'remarkably', 'restrained', 'tasteful', 'genius', 'woody', 'possess', 'inspiration', 'slop', 'passes', 'bloody', 'clashes', 'pander', 'belgians', 'continued', 'condescending', 'paternalistic', 'officers', 'janssens', 'rudi', 'delhem', 'publique', 'caused', 'rebellions', 'undermining', 'outraged', 'rape', 'nationals', 'unrest', 'tshombe', 'contained', '70', 'percent', 'proclaimed', 'secession', 'mobutu', 'colonel', 'went', 'pacification', 'tour', 'drown', 'dog', 'rabies', 'prophesies', 'fate', 'exemplary', 'complicated', 'myriad', 'players', 'frequently', 'succumb', 'script', 'illuminates', 'bantu', 'sayings', 'rules', 'uses', 'ambassador', 'direction', 'assured', 'dynamic', 'radiating', 'fierce', 'passion', 'ability', 'strategize', 'cornered', 'insurmountable', 'odds', 'elevate', 'above', 'tragedy', 'drowning', 'sea', 'asian', 'wire', 'copycats', 'leaving', 'schwartznager', 'stallone', 'van', 'damme', 'wearing', 'cement', 'galoshes', 'mix', 'results', 'spectacle', 'amazing', 'exciting', 'stunt', '1999', 'gem', 'often', 'chinese', 'flying', 'ninjas', 'karate', 'soaring', 'detectives', 'kicking', 'scientists', 'laughable', 'rush', 'emulate', 'trademark', 'choreography', 'art', 'form', 'iron', 'monkey', 'latest', 'import', 'reissue', '1993', '19th', 'vigilante', 'rongguang', 'yu', 'shaolin', 'rights', 'oppressed', 'bellies', 'hungry', 'legendary', 'hero', 'wong', 'fei', 'hong', '2000', 'legend', 'younger', 'sze', 'tsang', 'kei', 'ying', 'yen', 'chi', 'dan', 'thrust', 'oppression', 'styles', 'devolve', 'twinkle', 'toed', 'yuen', 'wo', 'ping', 'eventually', 'la', 'profoundness', 'shared', 'outlaw', 'hearted', 'misguided', 'enemy', 'transcend', 'mindless', 'hearts', 'minds', 'equal', 'masterpiece', 'dances', 'invading', 'tune', 'aka', 'siunin', 'hung', 'tsi', 'titmalau'])"
      ]
     },
     "execution_count": 115,
     "metadata": {},
     "output_type": "execute_result"
    }
   ],
   "source": [
    "def get_word_features(wordlist):\n",
    "    wordlist = nltk.FreqDist(wordlist)\n",
    "    word_features = wordlist.keys()\n",
    "    return word_features\n",
    "\n",
    "def get_words_in_reviews(reviews):\n",
    "    all_words = []\n",
    "    for (words, sentiment) in reviews:\n",
    "      all_words.extend(words)\n",
    "    return all_words\n",
    "\n",
    "def extract_features(document):\n",
    "    document_words = set(document)\n",
    "    features = {}\n",
    "    for word in word_features:\n",
    "        features['contains(%s)' % word] = (word in document_words)\n",
    "    return features\n",
    "\n",
    "word_features = get_word_features(get_words_in_reviews(reviews))\n",
    "word_features"
   ]
  },
  {
   "cell_type": "code",
   "execution_count": 108,
   "metadata": {},
   "outputs": [],
   "source": [
    "training_set = nltk.classify.apply_features(extract_features, reviews)"
   ]
  },
  {
   "cell_type": "code",
   "execution_count": 137,
   "metadata": {},
   "outputs": [
    {
     "name": "stdout",
     "output_type": "stream",
     "text": [
      "positive\n"
     ]
    }
   ],
   "source": [
    "review = \"fucking\"\n",
    "print(classifier.classify(extract_features(review.split())))"
   ]
  },
  {
   "cell_type": "code",
   "execution_count": 134,
   "metadata": {
    "scrolled": true
   },
   "outputs": [
    {
     "name": "stdout",
     "output_type": "stream",
     "text": [
      "negative\n"
     ]
    }
   ],
   "source": [
    "import nltk\n",
    "from nltk.tokenize import word_tokenize\n",
    "\n",
    "dictionary = set(word.lower() for word in words for (words, sentiment) in reviews)\n",
    "\n",
    "t = [({word: (word in x[0]) for word in dictionary}, x[1]) for x in reviews]\n",
    "classifier = nltk.NaiveBayesClassifier.train(t)\n",
    "  \n",
    "test_data = \"So Bad\"\n",
    "test_data_features = {word.lower(): (word in word_tokenize(test_data.lower())) for word in dictionary}\n",
    "  \n",
    "print (classifier.classify(test_data_features))"
   ]
  },
  {
   "cell_type": "code",
   "execution_count": null,
   "metadata": {
    "collapsed": true
   },
   "outputs": [],
   "source": []
  }
 ],
 "metadata": {
  "kernelspec": {
   "display_name": "Python 3",
   "language": "python",
   "name": "python3"
  },
  "language_info": {
   "codemirror_mode": {
    "name": "ipython",
    "version": 3
   },
   "file_extension": ".py",
   "mimetype": "text/x-python",
   "name": "python",
   "nbconvert_exporter": "python",
   "pygments_lexer": "ipython3",
   "version": "3.6.1"
  }
 },
 "nbformat": 4,
 "nbformat_minor": 2
}
